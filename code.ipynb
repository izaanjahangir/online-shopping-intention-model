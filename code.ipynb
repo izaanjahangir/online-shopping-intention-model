{
 "cells": [
  {
   "cell_type": "markdown",
   "id": "6fb92986",
   "metadata": {},
   "source": [
    "# Setup"
   ]
  },
  {
   "cell_type": "code",
   "execution_count": 177,
   "id": "4361ec8f",
   "metadata": {},
   "outputs": [],
   "source": [
    "import numpy as np\n",
    "import pandas as pd\n",
    "\n",
    "from sklearn.preprocessing import StandardScaler\n",
    "from sklearn.naive_bayes import GaussianNB\n",
    "from sklearn.svm import SVC\n",
    "from sklearn.model_selection import train_test_split\n",
    "from sklearn.model_selection import cross_val_score\n",
    "from sklearn.neighbors import KNeighborsClassifier\n",
    "from sklearn import metrics"
   ]
  },
  {
   "cell_type": "code",
   "execution_count": 178,
   "id": "16ee2b61",
   "metadata": {},
   "outputs": [],
   "source": [
    "url = \"https://archive.ics.uci.edu/ml/machine-learning-databases/00468/online_shoppers_intention.csv\"\n",
    "df = pd.read_csv(url);"
   ]
  },
  {
   "cell_type": "markdown",
   "id": "ef765c04",
   "metadata": {},
   "source": [
    "## Data preprocessing"
   ]
  },
  {
   "cell_type": "code",
   "execution_count": 179,
   "id": "c5a308cb",
   "metadata": {},
   "outputs": [],
   "source": [
    "def ordinal_encode(df, column, ordering):\n",
    "    df = df.copy()\n",
    "    df[column] = df[column].apply(lambda x : ordering.index(x))\n",
    "    return df\n",
    "\n",
    "def onehot_encode(df, column, prefix):\n",
    "    df= df.copy();\n",
    "    dummies = pd.get_dummies(df[column], prefix=prefix)\n",
    "    df = pd.concat([df, dummies], axis=1);\n",
    "    df = df.drop(column, axis = 1)\n",
    "    return df;"
   ]
  },
  {
   "cell_type": "code",
   "execution_count": 180,
   "id": "fd0e27fa",
   "metadata": {},
   "outputs": [],
   "source": [
    "month_ordering = [\n",
    "    \"Jan\", \n",
    "    \"Feb\", \n",
    "    \"Mar\", \n",
    "    \"Apr\", \n",
    "    \"May\", \n",
    "    \"June\", \n",
    "    \"Jul\", \n",
    "    \"Aug\", \n",
    "    \"Sep\", \n",
    "    \"Oct\", \n",
    "    \"Nov\", \n",
    "    \"Dec\"\n",
    "]\n",
    "visitor_prefix = \"V\""
   ]
  },
  {
   "cell_type": "code",
   "execution_count": 181,
   "id": "16f73df7",
   "metadata": {},
   "outputs": [],
   "source": [
    "df = ordinal_encode(df, \"Month\", month_ordering)\n",
    "df = onehot_encode(df, \"VisitorType\", visitor_prefix)\n",
    "\n",
    "df[\"Weekend\"] = df[\"Weekend\"].astype(int)\n",
    "df[\"Revenue\"] = df[\"Revenue\"].astype(int)"
   ]
  },
  {
   "cell_type": "markdown",
   "id": "c7de8cdf",
   "metadata": {},
   "source": [
    "## Spliting and Scaling"
   ]
  },
  {
   "cell_type": "code",
   "execution_count": 182,
   "id": "3ab59353",
   "metadata": {},
   "outputs": [],
   "source": [
    "y = df[\"Revenue\"].copy()\n",
    "x = df.drop(\"Revenue\", axis = 1).copy()"
   ]
  },
  {
   "cell_type": "code",
   "execution_count": 183,
   "id": "1d565d24",
   "metadata": {},
   "outputs": [],
   "source": [
    "scaler = StandardScaler()\n",
    "x = scaler.fit_transform(x)"
   ]
  },
  {
   "cell_type": "code",
   "execution_count": 188,
   "id": "20507463",
   "metadata": {},
   "outputs": [],
   "source": [
    "x_train, x_test, y_train, y_test = train_test_split(x, y, \n",
    "                                                    train_size = 0.7, \n",
    "                                                    random_state = 20)"
   ]
  },
  {
   "cell_type": "markdown",
   "id": "eb1503ac",
   "metadata": {},
   "source": [
    "# Training"
   ]
  },
  {
   "cell_type": "markdown",
   "id": "1b212ebc",
   "metadata": {},
   "source": [
    "## K-Nearest Neighbors"
   ]
  },
  {
   "cell_type": "code",
   "execution_count": 190,
   "id": "22f93bb9",
   "metadata": {},
   "outputs": [],
   "source": [
    "knn = KNeighborsClassifier(n_neighbors = 9)\n",
    "knn.fit(x_train, y_train)\n",
    "knnScore = knn.score(x_test, y_test)\n",
    "\n",
    "# Cross Validation Score\n",
    "knnValidationList = cross_val_score(knn, x, y, cv=5, scoring='accuracy')\n",
    "knnValidation = sum(knnValidationList) / 5"
   ]
  },
  {
   "cell_type": "markdown",
   "id": "ee2a1d77",
   "metadata": {},
   "source": [
    "## Naive Bayes"
   ]
  },
  {
   "cell_type": "code",
   "execution_count": 191,
   "id": "33bd5716",
   "metadata": {},
   "outputs": [],
   "source": [
    "nb = GaussianNB()\n",
    "nb.fit(x_train, y_train)\n",
    "nbScore = nb.score(x_test, y_test)\n",
    "\n",
    "# Cross Validation Score\n",
    "nbValidationList = cross_val_score(nb, x, y, cv=5, scoring='accuracy')\n",
    "nbValidation = sum(nbValidationList) / 5"
   ]
  },
  {
   "cell_type": "markdown",
   "id": "3ff1374f",
   "metadata": {},
   "source": [
    "## Support Vector Machine"
   ]
  },
  {
   "cell_type": "code",
   "execution_count": 192,
   "id": "bab6c79e",
   "metadata": {},
   "outputs": [],
   "source": [
    "sv = SVC()\n",
    "sv.fit(x_train, y_train)\n",
    "svScore = sv.score(x_test, y_test)\n",
    "\n",
    "# Cross Validation Score\n",
    "svValidationList = cross_val_score(sv, x, y, cv=5, scoring='accuracy')\n",
    "svValidation = sum(svValidationList) / 5"
   ]
  },
  {
   "cell_type": "markdown",
   "id": "dead139a",
   "metadata": {},
   "source": [
    "# Analysing accuracy and validation"
   ]
  },
  {
   "cell_type": "code",
   "execution_count": 194,
   "id": "0642fedf",
   "metadata": {},
   "outputs": [
    {
     "name": "stdout",
     "output_type": "stream",
     "text": [
      "KNN Accuracy: 0.8799675587996756\n",
      "KNN Validation: 0.8759935117599351\n",
      "------------\n",
      "NB Accuracy: 0.7675047310083807\n",
      "NB Validation: 0.7695863746958637\n",
      "------------\n",
      "SV Accuracy: 0.8959178156258448\n",
      "SV Validation: 0.8882400648824007\n"
     ]
    }
   ],
   "source": [
    "print(\"KNN Accuracy: \" + str(knnScore))\n",
    "print(\"KNN Validation: \" + str(knnValidation))\n",
    "print(\"------------\")\n",
    "\n",
    "print(\"NB Accuracy: \" + str(nbScore))\n",
    "print(\"NB Validation: \" + str(nbValidation))\n",
    "\n",
    "print(\"------------\")\n",
    "print(\"SV Accuracy: \" + str(svScore))\n",
    "print(\"SV Validation: \" + str(svValidation))"
   ]
  }
 ],
 "metadata": {
  "kernelspec": {
   "display_name": "Python 3 (ipykernel)",
   "language": "python",
   "name": "python3"
  },
  "language_info": {
   "codemirror_mode": {
    "name": "ipython",
    "version": 3
   },
   "file_extension": ".py",
   "mimetype": "text/x-python",
   "name": "python",
   "nbconvert_exporter": "python",
   "pygments_lexer": "ipython3",
   "version": "3.9.7"
  }
 },
 "nbformat": 4,
 "nbformat_minor": 5
}
